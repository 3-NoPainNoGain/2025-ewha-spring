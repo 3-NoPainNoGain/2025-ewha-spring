{
  "nbformat": 4,
  "nbformat_minor": 0,
  "metadata": {
    "colab": {
      "provenance": [],
      "authorship_tag": "ABX9TyOpm8GeeUf60kIc0EpAx3ka",
      "include_colab_link": true
    },
    "kernelspec": {
      "name": "python3",
      "display_name": "Python 3"
    },
    "language_info": {
      "name": "python"
    }
  },
  "cells": [
    {
      "cell_type": "markdown",
      "metadata": {
        "id": "view-in-github",
        "colab_type": "text"
      },
      "source": [
        "<a href=\"https://colab.research.google.com/github/ekyuho/2025-ewha-spring/blob/main/make_order.ipynb\" target=\"_parent\"><img src=\"https://colab.research.google.com/assets/colab-badge.svg\" alt=\"Open In Colab\"/></a>"
      ]
    },
    {
      "cell_type": "code",
      "execution_count": null,
      "metadata": {
        "id": "P-xgRLrj3Gjd"
      },
      "outputs": [],
      "source": [
        "import random\n",
        "\n",
        "session=['6월9일(월) 슬롯1', '6월12일(목) 슬롯2', '8월12(목) 슬롯3', '6월16일(월) 슬롯4', '6월19일(목) 슬롯5', '6월19(목) 슬롯6']\n",
        "per_session=[4,4,4,4,4,4]\n",
        "\n",
        "teams=[]\n",
        "missing=[1,2,5,26]\n",
        "for i in range(1,29):\n",
        "  if i not in missing: teams.append(i)\n",
        "print(teams)\n",
        "random.shuffle(teams)\n",
        "print(teams)\n",
        "print(f'total {len(teams)}팀')\n",
        "\n",
        "# 75분 한교시에 4팀씩 발표하는 것으로 가정\n",
        "\n",
        "count=0\n",
        "for i in range(len(session)):\n",
        "  print(session[i], end='')\n",
        "  for j in range(per_session[i]):\n",
        "    if count == len(teams): break\n",
        "    print(f' {teams[count]}', end='')\n",
        "    count+=1\n",
        "  print()"
      ]
    },
    {
      "cell_type": "code",
      "source": [],
      "metadata": {
        "id": "GWshMd-l4QUn"
      },
      "execution_count": null,
      "outputs": []
    }
  ]
}